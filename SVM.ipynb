{
  "nbformat": 4,
  "nbformat_minor": 0,
  "metadata": {
    "colab": {
      "provenance": []
    },
    "kernelspec": {
      "name": "python3",
      "display_name": "Python 3"
    },
    "language_info": {
      "name": "python"
    }
  },
  "cells": [
    {
      "cell_type": "code",
      "execution_count": 27,
      "metadata": {
        "colab": {
          "base_uri": "https://localhost:8080/"
        },
        "id": "UbLyR1LgCCAR",
        "outputId": "03903fce-bd67-4cc3-f98a-38dbd29f1243"
      },
      "outputs": [
        {
          "output_type": "stream",
          "name": "stdout",
          "text": [
            "Predictions: [ 1.  1.  1. -1. -1. -1.]\n"
          ]
        }
      ],
      "source": [
        "import numpy as np\n",
        "\n",
        "class SVM:\n",
        "    def __init__(self, learning_rate=0.001, lambda_param=0.01, n_iters=1000):\n",
        "        self.lr = learning_rate\n",
        "        self.lambda_param = lambda_param\n",
        "        self.n_iters = n_iters\n",
        "        self.w = None\n",
        "        self.b = None\n",
        "\n",
        "    def fit(self, X, y):\n",
        "        # Number of features and samples\n",
        "        n_samples, n_features = X.shape\n",
        "        # Initialize weights and bias\n",
        "        self.w = np.zeros(n_features)\n",
        "        self.b = 0\n",
        "\n",
        "        # Map labels y into {1, -1}\n",
        "        y_ = np.where(y <= 0, -1, 1)\n",
        "\n",
        "        # Training loop using gradient descent\n",
        "        for _ in range(self.n_iters):\n",
        "            for idx, x_i in enumerate(X):\n",
        "                condition = y_[idx] * (np.dot(x_i, self.w) + self.b) >= 1\n",
        "                if condition:\n",
        "                    # Update using regular gradient if condition is met\n",
        "                    self.w -= self.lr * (2 * self.lambda_param * self.w)\n",
        "                else:\n",
        "                    # Otherwise update for misclassified point\n",
        "                    self.w -= self.lr * (2 * self.lambda_param * self.w - np.dot(x_i, y_[idx]))\n",
        "                    self.b -= self.lr * y_[idx]\n",
        "\n",
        "    def predict(self, X):\n",
        "        linear_output = np.dot(X, self.w) + self.b\n",
        "        return np.sign(linear_output)\n",
        "\n",
        "\n",
        "# Sample Usage\n",
        "if __name__ == \"__main__\":\n",
        "    # Sample dataset: binary classification with two features\n",
        "    X = np.array([[200, 80], [210, 85], [190, 75], [300, 100], [310, 110], [320, 115]])\n",
        "    y = np.array([1, 1, 1, 0, 0, 0])\n",
        "\n",
        "\n",
        "    # Initialize and train the SVM\n",
        "    clf = SVM()\n",
        "    clf.fit(X, y)\n",
        "\n",
        "    # Predicting on new points\n",
        "    predictions = clf.predict(X)\n",
        "    print(\"Predictions:\", predictions)\n"
      ]
    },
    {
      "cell_type": "code",
      "source": [],
      "metadata": {
        "id": "XOrX5Z2nGD8j"
      },
      "execution_count": null,
      "outputs": []
    }
  ]
}