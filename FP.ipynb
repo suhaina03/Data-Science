{
  "nbformat": 4,
  "nbformat_minor": 0,
  "metadata": {
    "colab": {
      "provenance": []
    },
    "kernelspec": {
      "name": "python3",
      "display_name": "Python 3"
    },
    "language_info": {
      "name": "python"
    }
  },
  "cells": [
    {
      "cell_type": "code",
      "execution_count": 41,
      "metadata": {
        "colab": {
          "base_uri": "https://localhost:8080/"
        },
        "id": "UbLyR1LgCCAR",
        "outputId": "fa0b78bd-6db1-4ce1-9f8b-57050feceb71"
      },
      "outputs": [
        {
          "output_type": "stream",
          "name": "stdout",
          "text": [
            "Frequent Itemsets (Health Activity Patterns):\n",
            "    support            itemsets\n",
            "0  0.666667           (running)\n",
            "1  0.500000              (yoga)\n",
            "2  0.500000        (stretching)\n",
            "3  0.500000           (cycling)\n",
            "4  0.500000  (stretching, yoga)\n",
            "\n",
            "Association Rules:\n",
            "    antecedents   consequents  antecedent support  consequent support  \\\n",
            "0  (stretching)        (yoga)                 0.5                 0.5   \n",
            "1        (yoga)  (stretching)                 0.5                 0.5   \n",
            "\n",
            "   support  confidence  lift  representativity  leverage  conviction  \\\n",
            "0      0.5         1.0   2.0               1.0      0.25         inf   \n",
            "1      0.5         1.0   2.0               1.0      0.25         inf   \n",
            "\n",
            "   zhangs_metric  jaccard  certainty  kulczynski  \n",
            "0            1.0      1.0        1.0         1.0  \n",
            "1            1.0      1.0        1.0         1.0  \n"
          ]
        },
        {
          "output_type": "stream",
          "name": "stderr",
          "text": [
            "/usr/local/lib/python3.11/dist-packages/mlxtend/frequent_patterns/fpcommon.py:161: DeprecationWarning: DataFrames with non-bool types result in worse computationalperformance and their support might be discontinued in the future.Please use a DataFrame with bool type\n",
            "  warnings.warn(\n"
          ]
        }
      ],
      "source": [
        "import pandas as pd\n",
        "from mlxtend.frequent_patterns import apriori, association_rules\n",
        "\n",
        "# Dataset: Health and fitness activity patterns\n",
        "transactions = [\n",
        "    ['running', 'yoga', 'stretching'],\n",
        "    ['cycling', 'weightlifting'],\n",
        "    ['running', 'cycling'],\n",
        "    ['yoga', 'stretching'],\n",
        "    ['running', 'cycling', 'weightlifting'],\n",
        "    ['yoga', 'stretching', 'running']\n",
        "]\n",
        "\n",
        "# Convert dataset to one-hot encoded DataFrame\n",
        "df = pd.DataFrame([{item: 1 for item in transaction} for transaction in transactions]).fillna(0)\n",
        "\n",
        "# Run Apriori algorithm\n",
        "frequent_itemsets = apriori(df, min_support=0.4, use_colnames=True)\n",
        "rules = association_rules(frequent_itemsets, metric=\"confidence\", min_threshold=0.5)\n",
        "\n",
        "print(\"Frequent Itemsets (Health Activity Patterns):\")\n",
        "print(frequent_itemsets)\n",
        "print(\"\\nAssociation Rules:\")\n",
        "print(rules)\n"
      ]
    },
    {
      "cell_type": "code",
      "source": [],
      "metadata": {
        "id": "XOrX5Z2nGD8j"
      },
      "execution_count": null,
      "outputs": []
    }
  ]
}